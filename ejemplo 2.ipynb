{
 "cells": [
  {
   "cell_type": "markdown",
   "id": "f62f0689",
   "metadata": {},
   "source": [
    "nomas ejemplo\n"
   ]
  },
  {
   "cell_type": "markdown",
   "id": "738a66ea",
   "metadata": {},
   "source": []
  }
 ],
 "metadata": {
  "language_info": {
   "name": "python"
  }
 },
 "nbformat": 4,
 "nbformat_minor": 5
}
