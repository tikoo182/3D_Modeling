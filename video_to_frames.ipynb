{
 "cells": [
  {
   "cell_type": "markdown",
   "id": "e6dca04a",
   "metadata": {},
   "source": [
    "Script para separar video por fps en distintas partes"
   ]
  },
  {
   "cell_type": "code",
   "execution_count": null,
   "id": "fd226bbf",
   "metadata": {},
   "outputs": [],
   "source": [
    "import subprocess\n",
    "import os\n",
    "\n",
    "# === Configura aquí ===\n",
    "video_path = \"video_estadio.mp4\"\n",
    "output_dir = \"frames_por_tramos\"\n",
    "os.makedirs(output_dir, exist_ok=True)\n",
    "\n",
    "# Cada entrada: (inicio, fin, fps)\n",
    "tramos = [\n",
    "    (\"00:00:05\", \"00:00:20\", 5),   # Más detalle donde se mueve rápido\n",
    "    (\"00:00:30\", \"00:01:00\", 1),   # Menos fps donde no pasa nada\n",
    "    (\"00:01:10\", \"00:01:30\", 10),  # Aún más fps si hay mucho movimiento\n",
    "]\n",
    "\n",
    "# === No edites esto abajo ===\n",
    "for i, (inicio, fin, fps) in enumerate(tramos):\n",
    "    out_folder = os.path.join(output_dir, f\"tramo_{i+1}\")\n",
    "    os.makedirs(out_folder, exist_ok=True)\n",
    "\n",
    "    output_pattern = os.path.join(out_folder, \"frame_%04d.jpg\")\n",
    "\n",
    "    print(f\"🕒 Procesando tramo {i+1}: {inicio} - {fin} @ {fps} fps\")\n",
    "\n",
    "    cmd = [\n",
    "        \"ffmpeg\",\n",
    "        \"-ss\", inicio,\n",
    "        \"-to\", fin,\n",
    "        \"-i\", video_path,\n",
    "        \"-vf\", f\"fps={fps}\",\n",
    "        \"-q:v\", \"2\",  # calidad buena\n",
    "        output_pattern\n",
    "    ]\n",
    "\n",
    "    subprocess.run(cmd)\n",
    "\n",
    "print(\"✅ Listo. Revisa la carpeta:\", output_dir)\n"
   ]
  }
 ],
 "metadata": {
  "kernelspec": {
   "display_name": "Python 3",
   "language": "python",
   "name": "python3"
  },
  "language_info": {
   "name": "python",
   "version": "3.12.3"
  }
 },
 "nbformat": 4,
 "nbformat_minor": 5
}
